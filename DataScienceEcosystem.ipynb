{
 "cells": [
  {
   "cell_type": "markdown",
   "metadata": {},
   "source": [
    "<center>\n",
    "    <img src=\"https://cf-courses-data.s3.us.cloud-object-storage.appdomain.cloud/IBMDeveloperSkillsNetwork-DS0105EN-SkillsNetwork/labs/Module2/images/SN_web_lightmode.png\" width=\"300\" alt=\"cognitiveclass.ai logo\">\n",
    "</center>\n"
   ]
  },
  {
   "cell_type": "markdown",
   "metadata": {},
   "source": [
    "#### Add your code below following the instructions given in the course\n"
   ]
  },
  {
   "cell_type": "markdown",
   "metadata": {},
   "source": [
    "# Data Science Tools and Ecosystem"
   ]
  },
  {
   "cell_type": "markdown",
   "metadata": {},
   "source": [
    "This notebook provides an introduction to data science language,tools used for data science, about important lib used by data scientist,followed by creating list and ordering it. a brief introduction to arithmetic expression with example."
   ]
  },
  {
   "cell_type": "markdown",
   "metadata": {},
   "source": [
    "**Objective**\n",
    "- language used in data science \n",
    "- most popular lib for data science \n",
    "- creating list and ordering it \n",
    "- introduction to arithmetic expression with example \n",
    "- converting minutes to hours \n"
   ]
  },
  {
   "cell_type": "markdown",
   "metadata": {},
   "source": [
    "Data science languages:\n",
    "\n",
    "- Python\n",
    "- R\n",
    "- SQL\n",
    "- Julia\n",
    "- Scala\n",
    "- MATLAB\n",
    "- SAS\n",
    "- Java\n",
    "- C++"
   ]
  },
  {
   "cell_type": "markdown",
   "metadata": {},
   "source": [
    "Data science libraries:\n",
    "\n",
    "- NumPy\n",
    "- Pandas\n",
    "- Matplotlib\n",
    "- Seaborn\n",
    "- Scikit-learn\n",
    "- TensorFlow\n",
    "- Keras\n",
    "- PyTorch\n",
    "- Statsmodels\n",
    "- NLTK"
   ]
  },
  {
   "cell_type": "code",
   "execution_count": 7,
   "metadata": {
    "tags": []
   },
   "outputs": [
    {
     "data": {
      "text/plain": [
       "['Keras',\n",
       " 'Matplotlib',\n",
       " 'NLTK',\n",
       " 'NumPy',\n",
       " 'Pandas',\n",
       " 'PyTorch',\n",
       " 'Scikit-learn',\n",
       " 'Seaborn',\n",
       " 'Statsmodels',\n",
       " 'TensorFlow']"
      ]
     },
     "execution_count": 7,
     "metadata": {},
     "output_type": "execute_result"
    }
   ],
   "source": [
    "datascience=['NumPy','Pandas','Matplotlib','Seaborn','Scikit-learn','TensorFlow','Keras','PyTorch','Statsmodels','NLTK']\n",
    "datascience.sort()\n",
    "datascience\n"
   ]
  },
  {
   "cell_type": "markdown",
   "metadata": {
    "tags": []
   },
   "source": [
    "| Data Science Tools |\n",
    "| ----------------- |\n",
    "| Jupyter Notebook  |\n",
    "| RStudio           |\n",
    "| Visual Studio Code|"
   ]
  },
  {
   "cell_type": "markdown",
   "metadata": {},
   "source": [
    "### Arithmetic operation \n",
    "Arithmetic expressions are mathematical expressions that involve mathematical operations such as addition, subtraction, multiplication, and division. These expressions are used to perform calculations and evaluate numerical values.\n",
    "example are:\n",
    "- addition(+) for addition ex: 2+2=4\n",
    "- subtraction(-) for subtracting ex: 4-2=2\n",
    "- multiplication(*) for multiplying numbers ex: 2*3=6\n",
    "- division(/) for dividing a given number 4/2=2.0 or 4//2=2"
   ]
  },
  {
   "cell_type": "code",
   "execution_count": 14,
   "metadata": {
    "tags": []
   },
   "outputs": [
    {
     "data": {
      "text/plain": [
       "17"
      ]
     },
     "execution_count": 14,
     "metadata": {},
     "output_type": "execute_result"
    }
   ],
   "source": [
    "# in the below expression  first bracket part will be evaluated by following bodmas rule after that the result will be added \n",
    "# with 5\n",
    "x=(3*4)+5\n",
    "x\n"
   ]
  },
  {
   "cell_type": "code",
   "execution_count": 20,
   "metadata": {
    "tags": []
   },
   "outputs": [
    {
     "name": "stdout",
     "output_type": "stream",
     "text": [
      "200 minutes is roughly equals : 3 hrs\n"
     ]
    }
   ],
   "source": [
    "# here we have been given 200 min so in order to convert it to hours we have to divide by 60 that to floor division to get int\n",
    "# value only \n",
    "minutes = 200\n",
    "hours =minutes//60\n",
    "print(f\"{minutes} minutes is roughly equals : {hours} hrs\")"
   ]
  },
  {
   "cell_type": "markdown",
   "metadata": {},
   "source": [
    "## Author \n",
    "Rahul Abhishek"
   ]
  },
  {
   "cell_type": "code",
   "execution_count": null,
   "metadata": {},
   "outputs": [],
   "source": []
  }
 ],
 "metadata": {
  "kernelspec": {
   "display_name": "Python",
   "language": "python",
   "name": "conda-env-python-py"
  },
  "language_info": {
   "codemirror_mode": {
    "name": "ipython",
    "version": 3
   },
   "file_extension": ".py",
   "mimetype": "text/x-python",
   "name": "python",
   "nbconvert_exporter": "python",
   "pygments_lexer": "ipython3",
   "version": "3.7.12"
  }
 },
 "nbformat": 4,
 "nbformat_minor": 4
}
